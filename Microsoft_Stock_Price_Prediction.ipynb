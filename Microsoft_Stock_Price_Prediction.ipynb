{
  "nbformat": 4,
  "nbformat_minor": 0,
  "metadata": {
    "colab": {
      "provenance": [],
      "authorship_tag": "ABX9TyPhckZDHVYP/5xi790dLA2/",
      "include_colab_link": true
    },
    "kernelspec": {
      "name": "python3",
      "display_name": "Python 3"
    },
    "language_info": {
      "name": "python"
    }
  },
  "cells": [
    {
      "cell_type": "markdown",
      "metadata": {
        "id": "view-in-github",
        "colab_type": "text"
      },
      "source": [
        "<a href=\"https://colab.research.google.com/github/Bhuvan588/Microsoft-Stock-Price-prediction-using-LSTM/blob/main/Microsoft_Stock_Price_Prediction.ipynb\" target=\"_parent\"><img src=\"https://colab.research.google.com/assets/colab-badge.svg\" alt=\"Open In Colab\"/></a>"
      ]
    },
    {
      "cell_type": "markdown",
      "source": [
        "**IMPORTING THE DATA**"
      ],
      "metadata": {
        "id": "Rj5kfNZju9-f"
      }
    },
    {
      "cell_type": "code",
      "source": [
        "import pandas as pd\n",
        "\n",
        "df = pd.read_csv(\"MSFT.csv\")\n",
        "\n",
        "df.head()"
      ],
      "metadata": {
        "colab": {
          "base_uri": "https://localhost:8080/",
          "height": 206
        },
        "id": "4BEAzdFyvARz",
        "outputId": "c336d8bd-3e89-4acb-df8c-a9a1d5f8ccf3"
      },
      "execution_count": null,
      "outputs": [
        {
          "output_type": "execute_result",
          "data": {
            "text/plain": [
              "         Date      Open      High       Low     Close  Adj Close      Volume\n",
              "0  1986-03-13  0.088542  0.101563  0.088542  0.097222   0.060055  1031788800\n",
              "1  1986-03-14  0.097222  0.102431  0.097222  0.100694   0.062199   308160000\n",
              "2  1986-03-17  0.100694  0.103299  0.100694  0.102431   0.063272   133171200\n",
              "3  1986-03-18  0.102431  0.103299  0.098958  0.099826   0.061663    67766400\n",
              "4  1986-03-19  0.099826  0.100694  0.097222  0.098090   0.060591    47894400"
            ],
            "text/html": [
              "\n",
              "  <div id=\"df-d1885687-ce46-4f9f-89f6-a76744c7945b\" class=\"colab-df-container\">\n",
              "    <div>\n",
              "<style scoped>\n",
              "    .dataframe tbody tr th:only-of-type {\n",
              "        vertical-align: middle;\n",
              "    }\n",
              "\n",
              "    .dataframe tbody tr th {\n",
              "        vertical-align: top;\n",
              "    }\n",
              "\n",
              "    .dataframe thead th {\n",
              "        text-align: right;\n",
              "    }\n",
              "</style>\n",
              "<table border=\"1\" class=\"dataframe\">\n",
              "  <thead>\n",
              "    <tr style=\"text-align: right;\">\n",
              "      <th></th>\n",
              "      <th>Date</th>\n",
              "      <th>Open</th>\n",
              "      <th>High</th>\n",
              "      <th>Low</th>\n",
              "      <th>Close</th>\n",
              "      <th>Adj Close</th>\n",
              "      <th>Volume</th>\n",
              "    </tr>\n",
              "  </thead>\n",
              "  <tbody>\n",
              "    <tr>\n",
              "      <th>0</th>\n",
              "      <td>1986-03-13</td>\n",
              "      <td>0.088542</td>\n",
              "      <td>0.101563</td>\n",
              "      <td>0.088542</td>\n",
              "      <td>0.097222</td>\n",
              "      <td>0.060055</td>\n",
              "      <td>1031788800</td>\n",
              "    </tr>\n",
              "    <tr>\n",
              "      <th>1</th>\n",
              "      <td>1986-03-14</td>\n",
              "      <td>0.097222</td>\n",
              "      <td>0.102431</td>\n",
              "      <td>0.097222</td>\n",
              "      <td>0.100694</td>\n",
              "      <td>0.062199</td>\n",
              "      <td>308160000</td>\n",
              "    </tr>\n",
              "    <tr>\n",
              "      <th>2</th>\n",
              "      <td>1986-03-17</td>\n",
              "      <td>0.100694</td>\n",
              "      <td>0.103299</td>\n",
              "      <td>0.100694</td>\n",
              "      <td>0.102431</td>\n",
              "      <td>0.063272</td>\n",
              "      <td>133171200</td>\n",
              "    </tr>\n",
              "    <tr>\n",
              "      <th>3</th>\n",
              "      <td>1986-03-18</td>\n",
              "      <td>0.102431</td>\n",
              "      <td>0.103299</td>\n",
              "      <td>0.098958</td>\n",
              "      <td>0.099826</td>\n",
              "      <td>0.061663</td>\n",
              "      <td>67766400</td>\n",
              "    </tr>\n",
              "    <tr>\n",
              "      <th>4</th>\n",
              "      <td>1986-03-19</td>\n",
              "      <td>0.099826</td>\n",
              "      <td>0.100694</td>\n",
              "      <td>0.097222</td>\n",
              "      <td>0.098090</td>\n",
              "      <td>0.060591</td>\n",
              "      <td>47894400</td>\n",
              "    </tr>\n",
              "  </tbody>\n",
              "</table>\n",
              "</div>\n",
              "    <div class=\"colab-df-buttons\">\n",
              "\n",
              "  <div class=\"colab-df-container\">\n",
              "    <button class=\"colab-df-convert\" onclick=\"convertToInteractive('df-d1885687-ce46-4f9f-89f6-a76744c7945b')\"\n",
              "            title=\"Convert this dataframe to an interactive table.\"\n",
              "            style=\"display:none;\">\n",
              "\n",
              "  <svg xmlns=\"http://www.w3.org/2000/svg\" height=\"24px\" viewBox=\"0 -960 960 960\">\n",
              "    <path d=\"M120-120v-720h720v720H120Zm60-500h600v-160H180v160Zm220 220h160v-160H400v160Zm0 220h160v-160H400v160ZM180-400h160v-160H180v160Zm440 0h160v-160H620v160ZM180-180h160v-160H180v160Zm440 0h160v-160H620v160Z\"/>\n",
              "  </svg>\n",
              "    </button>\n",
              "\n",
              "  <style>\n",
              "    .colab-df-container {\n",
              "      display:flex;\n",
              "      gap: 12px;\n",
              "    }\n",
              "\n",
              "    .colab-df-convert {\n",
              "      background-color: #E8F0FE;\n",
              "      border: none;\n",
              "      border-radius: 50%;\n",
              "      cursor: pointer;\n",
              "      display: none;\n",
              "      fill: #1967D2;\n",
              "      height: 32px;\n",
              "      padding: 0 0 0 0;\n",
              "      width: 32px;\n",
              "    }\n",
              "\n",
              "    .colab-df-convert:hover {\n",
              "      background-color: #E2EBFA;\n",
              "      box-shadow: 0px 1px 2px rgba(60, 64, 67, 0.3), 0px 1px 3px 1px rgba(60, 64, 67, 0.15);\n",
              "      fill: #174EA6;\n",
              "    }\n",
              "\n",
              "    .colab-df-buttons div {\n",
              "      margin-bottom: 4px;\n",
              "    }\n",
              "\n",
              "    [theme=dark] .colab-df-convert {\n",
              "      background-color: #3B4455;\n",
              "      fill: #D2E3FC;\n",
              "    }\n",
              "\n",
              "    [theme=dark] .colab-df-convert:hover {\n",
              "      background-color: #434B5C;\n",
              "      box-shadow: 0px 1px 3px 1px rgba(0, 0, 0, 0.15);\n",
              "      filter: drop-shadow(0px 1px 2px rgba(0, 0, 0, 0.3));\n",
              "      fill: #FFFFFF;\n",
              "    }\n",
              "  </style>\n",
              "\n",
              "    <script>\n",
              "      const buttonEl =\n",
              "        document.querySelector('#df-d1885687-ce46-4f9f-89f6-a76744c7945b button.colab-df-convert');\n",
              "      buttonEl.style.display =\n",
              "        google.colab.kernel.accessAllowed ? 'block' : 'none';\n",
              "\n",
              "      async function convertToInteractive(key) {\n",
              "        const element = document.querySelector('#df-d1885687-ce46-4f9f-89f6-a76744c7945b');\n",
              "        const dataTable =\n",
              "          await google.colab.kernel.invokeFunction('convertToInteractive',\n",
              "                                                    [key], {});\n",
              "        if (!dataTable) return;\n",
              "\n",
              "        const docLinkHtml = 'Like what you see? Visit the ' +\n",
              "          '<a target=\"_blank\" href=https://colab.research.google.com/notebooks/data_table.ipynb>data table notebook</a>'\n",
              "          + ' to learn more about interactive tables.';\n",
              "        element.innerHTML = '';\n",
              "        dataTable['output_type'] = 'display_data';\n",
              "        await google.colab.output.renderOutput(dataTable, element);\n",
              "        const docLink = document.createElement('div');\n",
              "        docLink.innerHTML = docLinkHtml;\n",
              "        element.appendChild(docLink);\n",
              "      }\n",
              "    </script>\n",
              "  </div>\n",
              "\n",
              "\n",
              "<div id=\"df-475dca7d-89b2-4f3d-b757-f187affcbeee\">\n",
              "  <button class=\"colab-df-quickchart\" onclick=\"quickchart('df-475dca7d-89b2-4f3d-b757-f187affcbeee')\"\n",
              "            title=\"Suggest charts\"\n",
              "            style=\"display:none;\">\n",
              "\n",
              "<svg xmlns=\"http://www.w3.org/2000/svg\" height=\"24px\"viewBox=\"0 0 24 24\"\n",
              "     width=\"24px\">\n",
              "    <g>\n",
              "        <path d=\"M19 3H5c-1.1 0-2 .9-2 2v14c0 1.1.9 2 2 2h14c1.1 0 2-.9 2-2V5c0-1.1-.9-2-2-2zM9 17H7v-7h2v7zm4 0h-2V7h2v10zm4 0h-2v-4h2v4z\"/>\n",
              "    </g>\n",
              "</svg>\n",
              "  </button>\n",
              "\n",
              "<style>\n",
              "  .colab-df-quickchart {\n",
              "      --bg-color: #E8F0FE;\n",
              "      --fill-color: #1967D2;\n",
              "      --hover-bg-color: #E2EBFA;\n",
              "      --hover-fill-color: #174EA6;\n",
              "      --disabled-fill-color: #AAA;\n",
              "      --disabled-bg-color: #DDD;\n",
              "  }\n",
              "\n",
              "  [theme=dark] .colab-df-quickchart {\n",
              "      --bg-color: #3B4455;\n",
              "      --fill-color: #D2E3FC;\n",
              "      --hover-bg-color: #434B5C;\n",
              "      --hover-fill-color: #FFFFFF;\n",
              "      --disabled-bg-color: #3B4455;\n",
              "      --disabled-fill-color: #666;\n",
              "  }\n",
              "\n",
              "  .colab-df-quickchart {\n",
              "    background-color: var(--bg-color);\n",
              "    border: none;\n",
              "    border-radius: 50%;\n",
              "    cursor: pointer;\n",
              "    display: none;\n",
              "    fill: var(--fill-color);\n",
              "    height: 32px;\n",
              "    padding: 0;\n",
              "    width: 32px;\n",
              "  }\n",
              "\n",
              "  .colab-df-quickchart:hover {\n",
              "    background-color: var(--hover-bg-color);\n",
              "    box-shadow: 0 1px 2px rgba(60, 64, 67, 0.3), 0 1px 3px 1px rgba(60, 64, 67, 0.15);\n",
              "    fill: var(--button-hover-fill-color);\n",
              "  }\n",
              "\n",
              "  .colab-df-quickchart-complete:disabled,\n",
              "  .colab-df-quickchart-complete:disabled:hover {\n",
              "    background-color: var(--disabled-bg-color);\n",
              "    fill: var(--disabled-fill-color);\n",
              "    box-shadow: none;\n",
              "  }\n",
              "\n",
              "  .colab-df-spinner {\n",
              "    border: 2px solid var(--fill-color);\n",
              "    border-color: transparent;\n",
              "    border-bottom-color: var(--fill-color);\n",
              "    animation:\n",
              "      spin 1s steps(1) infinite;\n",
              "  }\n",
              "\n",
              "  @keyframes spin {\n",
              "    0% {\n",
              "      border-color: transparent;\n",
              "      border-bottom-color: var(--fill-color);\n",
              "      border-left-color: var(--fill-color);\n",
              "    }\n",
              "    20% {\n",
              "      border-color: transparent;\n",
              "      border-left-color: var(--fill-color);\n",
              "      border-top-color: var(--fill-color);\n",
              "    }\n",
              "    30% {\n",
              "      border-color: transparent;\n",
              "      border-left-color: var(--fill-color);\n",
              "      border-top-color: var(--fill-color);\n",
              "      border-right-color: var(--fill-color);\n",
              "    }\n",
              "    40% {\n",
              "      border-color: transparent;\n",
              "      border-right-color: var(--fill-color);\n",
              "      border-top-color: var(--fill-color);\n",
              "    }\n",
              "    60% {\n",
              "      border-color: transparent;\n",
              "      border-right-color: var(--fill-color);\n",
              "    }\n",
              "    80% {\n",
              "      border-color: transparent;\n",
              "      border-right-color: var(--fill-color);\n",
              "      border-bottom-color: var(--fill-color);\n",
              "    }\n",
              "    90% {\n",
              "      border-color: transparent;\n",
              "      border-bottom-color: var(--fill-color);\n",
              "    }\n",
              "  }\n",
              "</style>\n",
              "\n",
              "  <script>\n",
              "    async function quickchart(key) {\n",
              "      const quickchartButtonEl =\n",
              "        document.querySelector('#' + key + ' button');\n",
              "      quickchartButtonEl.disabled = true;  // To prevent multiple clicks.\n",
              "      quickchartButtonEl.classList.add('colab-df-spinner');\n",
              "      try {\n",
              "        const charts = await google.colab.kernel.invokeFunction(\n",
              "            'suggestCharts', [key], {});\n",
              "      } catch (error) {\n",
              "        console.error('Error during call to suggestCharts:', error);\n",
              "      }\n",
              "      quickchartButtonEl.classList.remove('colab-df-spinner');\n",
              "      quickchartButtonEl.classList.add('colab-df-quickchart-complete');\n",
              "    }\n",
              "    (() => {\n",
              "      let quickchartButtonEl =\n",
              "        document.querySelector('#df-475dca7d-89b2-4f3d-b757-f187affcbeee button');\n",
              "      quickchartButtonEl.style.display =\n",
              "        google.colab.kernel.accessAllowed ? 'block' : 'none';\n",
              "    })();\n",
              "  </script>\n",
              "</div>\n",
              "\n",
              "    </div>\n",
              "  </div>\n"
            ],
            "application/vnd.google.colaboratory.intrinsic+json": {
              "type": "dataframe",
              "variable_name": "df",
              "summary": "{\n  \"name\": \"df\",\n  \"rows\": 9670,\n  \"fields\": [\n    {\n      \"column\": \"Date\",\n      \"properties\": {\n        \"dtype\": \"object\",\n        \"num_unique_values\": 9670,\n        \"samples\": [\n          \"2006-04-18\",\n          \"1988-02-16\",\n          \"1990-10-05\"\n        ],\n        \"semantic_type\": \"\",\n        \"description\": \"\"\n      }\n    },\n    {\n      \"column\": \"Open\",\n      \"properties\": {\n        \"dtype\": \"number\",\n        \"std\": 89.9732961638657,\n        \"min\": 0.088542,\n        \"max\": 467.0,\n        \"num_unique_values\": 5788,\n        \"samples\": [\n          234.009995,\n          172.059998,\n          6.507813\n        ],\n        \"semantic_type\": \"\",\n        \"description\": \"\"\n      }\n    },\n    {\n      \"column\": \"High\",\n      \"properties\": {\n        \"dtype\": \"number\",\n        \"std\": 90.81088979758533,\n        \"min\": 0.092014,\n        \"max\": 468.350006,\n        \"num_unique_values\": 5723,\n        \"samples\": [\n          42.46875,\n          8.09375,\n          113.080002\n        ],\n        \"semantic_type\": \"\",\n        \"description\": \"\"\n      }\n    },\n    {\n      \"column\": \"Low\",\n      \"properties\": {\n        \"dtype\": \"number\",\n        \"std\": 89.08868022121108,\n        \"min\": 0.088542,\n        \"max\": 464.459991,\n        \"num_unique_values\": 5743,\n        \"samples\": [\n          2.636719,\n          37.099998,\n          309.829987\n        ],\n        \"semantic_type\": \"\",\n        \"description\": \"\"\n      }\n    },\n    {\n      \"column\": \"Close\",\n      \"properties\": {\n        \"dtype\": \"number\",\n        \"std\": 90.00192993414457,\n        \"min\": 0.090278,\n        \"max\": 467.559998,\n        \"num_unique_values\": 5937,\n        \"samples\": [\n          42.28125,\n          51.59,\n          114.669998\n        ],\n        \"semantic_type\": \"\",\n        \"description\": \"\"\n      }\n    },\n    {\n      \"column\": \"Adj Close\",\n      \"properties\": {\n        \"dtype\": \"number\",\n        \"std\": 90.079338982013,\n        \"min\": 0.055765,\n        \"max\": 467.559998,\n        \"num_unique_values\": 7562,\n        \"samples\": [\n          83.796402,\n          3.590412,\n          89.534828\n        ],\n        \"semantic_type\": \"\",\n        \"description\": \"\"\n      }\n    },\n    {\n      \"column\": \"Volume\",\n      \"properties\": {\n        \"dtype\": \"number\",\n        \"std\": 38142036,\n        \"min\": 2304000,\n        \"max\": 1031788800,\n        \"num_unique_values\": 9478,\n        \"samples\": [\n          50927300,\n          65553200,\n          64568100\n        ],\n        \"semantic_type\": \"\",\n        \"description\": \"\"\n      }\n    }\n  ]\n}"
            }
          },
          "metadata": {},
          "execution_count": 10
        }
      ]
    },
    {
      "cell_type": "code",
      "source": [
        "df.tail()"
      ],
      "metadata": {
        "colab": {
          "base_uri": "https://localhost:8080/",
          "height": 206
        },
        "id": "LVwu2xJCvF8Q",
        "outputId": "05783b89-2943-4438-8e9f-a6dff56617f5"
      },
      "execution_count": null,
      "outputs": [
        {
          "output_type": "execute_result",
          "data": {
            "text/plain": [
              "            Date        Open        High         Low       Close   Adj Close  \\\n",
              "9665  2024-07-22  441.790009  444.600006  438.910004  442.940002  442.940002   \n",
              "9666  2024-07-23  443.899994  448.390015  443.100006  444.850006  444.850006   \n",
              "9667  2024-07-24  440.450012  441.480011  427.589996  428.899994  428.899994   \n",
              "9668  2024-07-25  428.799988  429.799988  417.510010  418.399994  418.399994   \n",
              "9669  2024-07-26  418.200012  428.920013  417.269989  425.269989  425.269989   \n",
              "\n",
              "        Volume  \n",
              "9665  15808800  \n",
              "9666  13107100  \n",
              "9667  26805800  \n",
              "9668  29943800  \n",
              "9669  23566500  "
            ],
            "text/html": [
              "\n",
              "  <div id=\"df-89f030bf-a236-4bdc-ae8c-93ef14e86b4f\" class=\"colab-df-container\">\n",
              "    <div>\n",
              "<style scoped>\n",
              "    .dataframe tbody tr th:only-of-type {\n",
              "        vertical-align: middle;\n",
              "    }\n",
              "\n",
              "    .dataframe tbody tr th {\n",
              "        vertical-align: top;\n",
              "    }\n",
              "\n",
              "    .dataframe thead th {\n",
              "        text-align: right;\n",
              "    }\n",
              "</style>\n",
              "<table border=\"1\" class=\"dataframe\">\n",
              "  <thead>\n",
              "    <tr style=\"text-align: right;\">\n",
              "      <th></th>\n",
              "      <th>Date</th>\n",
              "      <th>Open</th>\n",
              "      <th>High</th>\n",
              "      <th>Low</th>\n",
              "      <th>Close</th>\n",
              "      <th>Adj Close</th>\n",
              "      <th>Volume</th>\n",
              "    </tr>\n",
              "  </thead>\n",
              "  <tbody>\n",
              "    <tr>\n",
              "      <th>9665</th>\n",
              "      <td>2024-07-22</td>\n",
              "      <td>441.790009</td>\n",
              "      <td>444.600006</td>\n",
              "      <td>438.910004</td>\n",
              "      <td>442.940002</td>\n",
              "      <td>442.940002</td>\n",
              "      <td>15808800</td>\n",
              "    </tr>\n",
              "    <tr>\n",
              "      <th>9666</th>\n",
              "      <td>2024-07-23</td>\n",
              "      <td>443.899994</td>\n",
              "      <td>448.390015</td>\n",
              "      <td>443.100006</td>\n",
              "      <td>444.850006</td>\n",
              "      <td>444.850006</td>\n",
              "      <td>13107100</td>\n",
              "    </tr>\n",
              "    <tr>\n",
              "      <th>9667</th>\n",
              "      <td>2024-07-24</td>\n",
              "      <td>440.450012</td>\n",
              "      <td>441.480011</td>\n",
              "      <td>427.589996</td>\n",
              "      <td>428.899994</td>\n",
              "      <td>428.899994</td>\n",
              "      <td>26805800</td>\n",
              "    </tr>\n",
              "    <tr>\n",
              "      <th>9668</th>\n",
              "      <td>2024-07-25</td>\n",
              "      <td>428.799988</td>\n",
              "      <td>429.799988</td>\n",
              "      <td>417.510010</td>\n",
              "      <td>418.399994</td>\n",
              "      <td>418.399994</td>\n",
              "      <td>29943800</td>\n",
              "    </tr>\n",
              "    <tr>\n",
              "      <th>9669</th>\n",
              "      <td>2024-07-26</td>\n",
              "      <td>418.200012</td>\n",
              "      <td>428.920013</td>\n",
              "      <td>417.269989</td>\n",
              "      <td>425.269989</td>\n",
              "      <td>425.269989</td>\n",
              "      <td>23566500</td>\n",
              "    </tr>\n",
              "  </tbody>\n",
              "</table>\n",
              "</div>\n",
              "    <div class=\"colab-df-buttons\">\n",
              "\n",
              "  <div class=\"colab-df-container\">\n",
              "    <button class=\"colab-df-convert\" onclick=\"convertToInteractive('df-89f030bf-a236-4bdc-ae8c-93ef14e86b4f')\"\n",
              "            title=\"Convert this dataframe to an interactive table.\"\n",
              "            style=\"display:none;\">\n",
              "\n",
              "  <svg xmlns=\"http://www.w3.org/2000/svg\" height=\"24px\" viewBox=\"0 -960 960 960\">\n",
              "    <path d=\"M120-120v-720h720v720H120Zm60-500h600v-160H180v160Zm220 220h160v-160H400v160Zm0 220h160v-160H400v160ZM180-400h160v-160H180v160Zm440 0h160v-160H620v160ZM180-180h160v-160H180v160Zm440 0h160v-160H620v160Z\"/>\n",
              "  </svg>\n",
              "    </button>\n",
              "\n",
              "  <style>\n",
              "    .colab-df-container {\n",
              "      display:flex;\n",
              "      gap: 12px;\n",
              "    }\n",
              "\n",
              "    .colab-df-convert {\n",
              "      background-color: #E8F0FE;\n",
              "      border: none;\n",
              "      border-radius: 50%;\n",
              "      cursor: pointer;\n",
              "      display: none;\n",
              "      fill: #1967D2;\n",
              "      height: 32px;\n",
              "      padding: 0 0 0 0;\n",
              "      width: 32px;\n",
              "    }\n",
              "\n",
              "    .colab-df-convert:hover {\n",
              "      background-color: #E2EBFA;\n",
              "      box-shadow: 0px 1px 2px rgba(60, 64, 67, 0.3), 0px 1px 3px 1px rgba(60, 64, 67, 0.15);\n",
              "      fill: #174EA6;\n",
              "    }\n",
              "\n",
              "    .colab-df-buttons div {\n",
              "      margin-bottom: 4px;\n",
              "    }\n",
              "\n",
              "    [theme=dark] .colab-df-convert {\n",
              "      background-color: #3B4455;\n",
              "      fill: #D2E3FC;\n",
              "    }\n",
              "\n",
              "    [theme=dark] .colab-df-convert:hover {\n",
              "      background-color: #434B5C;\n",
              "      box-shadow: 0px 1px 3px 1px rgba(0, 0, 0, 0.15);\n",
              "      filter: drop-shadow(0px 1px 2px rgba(0, 0, 0, 0.3));\n",
              "      fill: #FFFFFF;\n",
              "    }\n",
              "  </style>\n",
              "\n",
              "    <script>\n",
              "      const buttonEl =\n",
              "        document.querySelector('#df-89f030bf-a236-4bdc-ae8c-93ef14e86b4f button.colab-df-convert');\n",
              "      buttonEl.style.display =\n",
              "        google.colab.kernel.accessAllowed ? 'block' : 'none';\n",
              "\n",
              "      async function convertToInteractive(key) {\n",
              "        const element = document.querySelector('#df-89f030bf-a236-4bdc-ae8c-93ef14e86b4f');\n",
              "        const dataTable =\n",
              "          await google.colab.kernel.invokeFunction('convertToInteractive',\n",
              "                                                    [key], {});\n",
              "        if (!dataTable) return;\n",
              "\n",
              "        const docLinkHtml = 'Like what you see? Visit the ' +\n",
              "          '<a target=\"_blank\" href=https://colab.research.google.com/notebooks/data_table.ipynb>data table notebook</a>'\n",
              "          + ' to learn more about interactive tables.';\n",
              "        element.innerHTML = '';\n",
              "        dataTable['output_type'] = 'display_data';\n",
              "        await google.colab.output.renderOutput(dataTable, element);\n",
              "        const docLink = document.createElement('div');\n",
              "        docLink.innerHTML = docLinkHtml;\n",
              "        element.appendChild(docLink);\n",
              "      }\n",
              "    </script>\n",
              "  </div>\n",
              "\n",
              "\n",
              "<div id=\"df-1ad9b1d2-92de-44ca-816f-5404b7d0116a\">\n",
              "  <button class=\"colab-df-quickchart\" onclick=\"quickchart('df-1ad9b1d2-92de-44ca-816f-5404b7d0116a')\"\n",
              "            title=\"Suggest charts\"\n",
              "            style=\"display:none;\">\n",
              "\n",
              "<svg xmlns=\"http://www.w3.org/2000/svg\" height=\"24px\"viewBox=\"0 0 24 24\"\n",
              "     width=\"24px\">\n",
              "    <g>\n",
              "        <path d=\"M19 3H5c-1.1 0-2 .9-2 2v14c0 1.1.9 2 2 2h14c1.1 0 2-.9 2-2V5c0-1.1-.9-2-2-2zM9 17H7v-7h2v7zm4 0h-2V7h2v10zm4 0h-2v-4h2v4z\"/>\n",
              "    </g>\n",
              "</svg>\n",
              "  </button>\n",
              "\n",
              "<style>\n",
              "  .colab-df-quickchart {\n",
              "      --bg-color: #E8F0FE;\n",
              "      --fill-color: #1967D2;\n",
              "      --hover-bg-color: #E2EBFA;\n",
              "      --hover-fill-color: #174EA6;\n",
              "      --disabled-fill-color: #AAA;\n",
              "      --disabled-bg-color: #DDD;\n",
              "  }\n",
              "\n",
              "  [theme=dark] .colab-df-quickchart {\n",
              "      --bg-color: #3B4455;\n",
              "      --fill-color: #D2E3FC;\n",
              "      --hover-bg-color: #434B5C;\n",
              "      --hover-fill-color: #FFFFFF;\n",
              "      --disabled-bg-color: #3B4455;\n",
              "      --disabled-fill-color: #666;\n",
              "  }\n",
              "\n",
              "  .colab-df-quickchart {\n",
              "    background-color: var(--bg-color);\n",
              "    border: none;\n",
              "    border-radius: 50%;\n",
              "    cursor: pointer;\n",
              "    display: none;\n",
              "    fill: var(--fill-color);\n",
              "    height: 32px;\n",
              "    padding: 0;\n",
              "    width: 32px;\n",
              "  }\n",
              "\n",
              "  .colab-df-quickchart:hover {\n",
              "    background-color: var(--hover-bg-color);\n",
              "    box-shadow: 0 1px 2px rgba(60, 64, 67, 0.3), 0 1px 3px 1px rgba(60, 64, 67, 0.15);\n",
              "    fill: var(--button-hover-fill-color);\n",
              "  }\n",
              "\n",
              "  .colab-df-quickchart-complete:disabled,\n",
              "  .colab-df-quickchart-complete:disabled:hover {\n",
              "    background-color: var(--disabled-bg-color);\n",
              "    fill: var(--disabled-fill-color);\n",
              "    box-shadow: none;\n",
              "  }\n",
              "\n",
              "  .colab-df-spinner {\n",
              "    border: 2px solid var(--fill-color);\n",
              "    border-color: transparent;\n",
              "    border-bottom-color: var(--fill-color);\n",
              "    animation:\n",
              "      spin 1s steps(1) infinite;\n",
              "  }\n",
              "\n",
              "  @keyframes spin {\n",
              "    0% {\n",
              "      border-color: transparent;\n",
              "      border-bottom-color: var(--fill-color);\n",
              "      border-left-color: var(--fill-color);\n",
              "    }\n",
              "    20% {\n",
              "      border-color: transparent;\n",
              "      border-left-color: var(--fill-color);\n",
              "      border-top-color: var(--fill-color);\n",
              "    }\n",
              "    30% {\n",
              "      border-color: transparent;\n",
              "      border-left-color: var(--fill-color);\n",
              "      border-top-color: var(--fill-color);\n",
              "      border-right-color: var(--fill-color);\n",
              "    }\n",
              "    40% {\n",
              "      border-color: transparent;\n",
              "      border-right-color: var(--fill-color);\n",
              "      border-top-color: var(--fill-color);\n",
              "    }\n",
              "    60% {\n",
              "      border-color: transparent;\n",
              "      border-right-color: var(--fill-color);\n",
              "    }\n",
              "    80% {\n",
              "      border-color: transparent;\n",
              "      border-right-color: var(--fill-color);\n",
              "      border-bottom-color: var(--fill-color);\n",
              "    }\n",
              "    90% {\n",
              "      border-color: transparent;\n",
              "      border-bottom-color: var(--fill-color);\n",
              "    }\n",
              "  }\n",
              "</style>\n",
              "\n",
              "  <script>\n",
              "    async function quickchart(key) {\n",
              "      const quickchartButtonEl =\n",
              "        document.querySelector('#' + key + ' button');\n",
              "      quickchartButtonEl.disabled = true;  // To prevent multiple clicks.\n",
              "      quickchartButtonEl.classList.add('colab-df-spinner');\n",
              "      try {\n",
              "        const charts = await google.colab.kernel.invokeFunction(\n",
              "            'suggestCharts', [key], {});\n",
              "      } catch (error) {\n",
              "        console.error('Error during call to suggestCharts:', error);\n",
              "      }\n",
              "      quickchartButtonEl.classList.remove('colab-df-spinner');\n",
              "      quickchartButtonEl.classList.add('colab-df-quickchart-complete');\n",
              "    }\n",
              "    (() => {\n",
              "      let quickchartButtonEl =\n",
              "        document.querySelector('#df-1ad9b1d2-92de-44ca-816f-5404b7d0116a button');\n",
              "      quickchartButtonEl.style.display =\n",
              "        google.colab.kernel.accessAllowed ? 'block' : 'none';\n",
              "    })();\n",
              "  </script>\n",
              "</div>\n",
              "\n",
              "    </div>\n",
              "  </div>\n"
            ],
            "application/vnd.google.colaboratory.intrinsic+json": {
              "type": "dataframe",
              "repr_error": "0"
            }
          },
          "metadata": {},
          "execution_count": 11
        }
      ]
    },
    {
      "cell_type": "code",
      "source": [
        "opn = df[\"Open\"]"
      ],
      "metadata": {
        "id": "xeMVCVQLvPQS"
      },
      "execution_count": null,
      "outputs": []
    },
    {
      "cell_type": "code",
      "source": [
        "opn.plot()"
      ],
      "metadata": {
        "colab": {
          "base_uri": "https://localhost:8080/",
          "height": 447
        },
        "id": "R2Ki8F0tvUUR",
        "outputId": "3d97232e-994a-4d2d-ce85-1a56328af72d"
      },
      "execution_count": null,
      "outputs": [
        {
          "output_type": "execute_result",
          "data": {
            "text/plain": [
              "<Axes: >"
            ]
          },
          "metadata": {},
          "execution_count": 13
        },
        {
          "output_type": "display_data",
          "data": {
            "text/plain": [
              "<Figure size 640x480 with 1 Axes>"
            ],
            "image/png": "[encoded data removed]"
          },
          "metadata": {}
        }
      ]
    },
    {
      "cell_type": "code",
      "source": [
        "import matplotlib.pyplot as plt\n",
        "\n",
        "#Coverting into numpt array\n",
        "ds = opn.values"
      ],
      "metadata": {
        "id": "Kx8kLXW_vWB7"
      },
      "execution_count": null,
      "outputs": []
    },
    {
      "cell_type": "code",
      "source": [
        "ds"
      ],
      "metadata": {
        "colab": {
          "base_uri": "https://localhost:8080/"
        },
        "id": "jk6W1rwEvmNq",
        "outputId": "298dc4b7-4de0-4f5c-8fda-e552d87527a2"
      },
      "execution_count": null,
      "outputs": [
        {
          "output_type": "execute_result",
          "data": {
            "text/plain": [
              "array([8.85420000e-02, 9.72220000e-02, 1.00694000e-01, ...,\n",
              "       4.40450012e+02, 4.28799988e+02, 4.18200012e+02])"
            ]
          },
          "metadata": {},
          "execution_count": 15
        }
      ]
    },
    {
      "cell_type": "code",
      "source": [
        "len(ds)"
      ],
      "metadata": {
        "colab": {
          "base_uri": "https://localhost:8080/"
        },
        "id": "DdGwWPMRwOV-",
        "outputId": "5c910402-e5d6-471d-8440-f990e62da537"
      },
      "execution_count": null,
      "outputs": [
        {
          "output_type": "execute_result",
          "data": {
            "text/plain": [
              "9670"
            ]
          },
          "metadata": {},
          "execution_count": 16
        }
      ]
    },
    {
      "cell_type": "markdown",
      "source": [
        "Scaling the data"
      ],
      "metadata": {
        "id": "fOBr0es-vp0Z"
      }
    },
    {
      "cell_type": "code",
      "source": [
        "from sklearn.preprocessing import MinMaxScaler\n",
        "import numpy as np\n",
        "\n",
        "scaler = MinMaxScaler(feature_range=(0,1))\n",
        "ds_scaled = scaler.fit_transform(np.array(ds).reshape(-1,1))"
      ],
      "metadata": {
        "id": "bGotecqsvm47"
      },
      "execution_count": null,
      "outputs": []
    },
    {
      "cell_type": "code",
      "source": [
        "ds_scaled"
      ],
      "metadata": {
        "colab": {
          "base_uri": "https://localhost:8080/"
        },
        "id": "2cG5atOXv_dx",
        "outputId": "c2aac362-7e4b-4b0b-e52c-560a9fb1e951"
      },
      "execution_count": null,
      "outputs": [
        {
          "output_type": "execute_result",
          "data": {
            "text/plain": [
              "array([[0.00000000e+00],\n",
              "       [1.85902484e-05],\n",
              "       [2.60263478e-05],\n",
              "       ...,\n",
              "       [9.43136996e-01],\n",
              "       [9.18185747e-01],\n",
              "       [8.95483422e-01]])"
            ]
          },
          "metadata": {},
          "execution_count": 18
        }
      ]
    },
    {
      "cell_type": "code",
      "source": [
        "len(ds_scaled)"
      ],
      "metadata": {
        "colab": {
          "base_uri": "https://localhost:8080/"
        },
        "id": "UpLEPuskwBKN",
        "outputId": "e85a7e3e-d9b8-478c-8a08-9b1829b85c2e"
      },
      "execution_count": null,
      "outputs": [
        {
          "output_type": "execute_result",
          "data": {
            "text/plain": [
              "9670"
            ]
          },
          "metadata": {},
          "execution_count": 19
        }
      ]
    },
    {
      "cell_type": "markdown",
      "source": [
        "Defining training and test data. NOTE: We cannot use train_test_split as it is sequential data."
      ],
      "metadata": {
        "id": "_piMITyrwZov"
      }
    },
    {
      "cell_type": "code",
      "source": [
        "#Usig 70% for training\n",
        "train_size = int(len(ds_scaled) * 0.70)\n",
        "test_size = len(ds_scaled) - train_size"
      ],
      "metadata": {
        "id": "WLii196owDwE"
      },
      "execution_count": null,
      "outputs": []
    },
    {
      "cell_type": "code",
      "source": [
        "train_size, test_size"
      ],
      "metadata": {
        "colab": {
          "base_uri": "https://localhost:8080/"
        },
        "id": "8OKjyl5Xwxnp",
        "outputId": "d4f086c2-3adc-4e9f-bfff-08214bcde335"
      },
      "execution_count": null,
      "outputs": [
        {
          "output_type": "execute_result",
          "data": {
            "text/plain": [
              "(6769, 2901)"
            ]
          },
          "metadata": {},
          "execution_count": 21
        }
      ]
    },
    {
      "cell_type": "markdown",
      "source": [
        "Splitting data into training and test sets"
      ],
      "metadata": {
        "id": "LDYw0cN0xSVq"
      }
    },
    {
      "cell_type": "code",
      "source": [
        "ds_train = ds_scaled[0: train_size, :]\n",
        "ds_test = ds_scaled[train_size: len(ds_scaled), :1]"
      ],
      "metadata": {
        "id": "rqCO01Qewyz6"
      },
      "execution_count": null,
      "outputs": []
    },
    {
      "cell_type": "code",
      "source": [
        "len(ds_train), len(ds_test)"
      ],
      "metadata": {
        "colab": {
          "base_uri": "https://localhost:8080/"
        },
        "id": "4AWYQlmqxhV5",
        "outputId": "6ec3051e-01a7-4caf-f10a-2f12c98be926"
      },
      "execution_count": null,
      "outputs": [
        {
          "output_type": "execute_result",
          "data": {
            "text/plain": [
              "(6769, 2901)"
            ]
          },
          "metadata": {},
          "execution_count": 25
        }
      ]
    },
    {
      "cell_type": "markdown",
      "source": [
        "Creating dataset in form of time series"
      ],
      "metadata": {
        "id": "Lz5HMb9Hxr5T"
      }
    },
    {
      "cell_type": "code",
      "source": [
        "def create_ds(dataset, stamp):\n",
        "  X_train =[]\n",
        "  y_train =[]\n",
        "\n",
        "  for i in range(len(dataset) -  stamp - 1):\n",
        "    a = dataset[i : (i+ stamp), 0]\n",
        "    X_train.append(a)\n",
        "    y_train.append(dataset[i+stamp, 0])\n",
        "\n",
        "  return np.array(X_train), np.array(y_train)"
      ],
      "metadata": {
        "id": "mt6BFeP7xmxr"
      },
      "execution_count": null,
      "outputs": []
    },
    {
      "cell_type": "markdown",
      "source": [
        "Now we take pass 100 days data to create record for training"
      ],
      "metadata": {
        "id": "0NnUbq3Eyk_s"
      }
    },
    {
      "cell_type": "code",
      "source": [
        "time_stamp = 100\n",
        "X_train, y_train = create_ds(ds_train, time_stamp)\n",
        "X_test, y_test = create_ds(ds_test, time_stamp)"
      ],
      "metadata": {
        "id": "c8pHIAStyE0-"
      },
      "execution_count": null,
      "outputs": []
    },
    {
      "cell_type": "code",
      "source": [
        "X_train.shape, y_train.shape"
      ],
      "metadata": {
        "colab": {
          "base_uri": "https://localhost:8080/"
        },
        "id": "4cQcVPBNyzss",
        "outputId": "6986be02-5290-4e52-efde-fd9aaaf79dd1"
      },
      "execution_count": null,
      "outputs": [
        {
          "output_type": "execute_result",
          "data": {
            "text/plain": [
              "((6668, 100), (6668,))"
            ]
          },
          "metadata": {},
          "execution_count": 28
        }
      ]
    },
    {
      "cell_type": "code",
      "source": [
        "X_test.shape, y_test.shape"
      ],
      "metadata": {
        "colab": {
          "base_uri": "https://localhost:8080/"
        },
        "id": "lDMqdfzJy2dE",
        "outputId": "1e00df2e-3a43-4cbe-b567-8093aa449aa0"
      },
      "execution_count": null,
      "outputs": [
        {
          "output_type": "execute_result",
          "data": {
            "text/plain": [
              "((2800, 100), (2800,))"
            ]
          },
          "metadata": {},
          "execution_count": 29
        }
      ]
    },
    {
      "cell_type": "markdown",
      "source": [
        "Reshaping data in order to fed into the LSTM model"
      ],
      "metadata": {
        "id": "RqdEmS0ty-X9"
      }
    },
    {
      "cell_type": "code",
      "source": [
        "X_train = np.reshape(X_train, (X_train.shape[0], X_train.shape[1], 1))\n",
        "X_test = np.reshape(X_test, (X_test.shape[0], X_test.shape[1], 1))"
      ],
      "metadata": {
        "id": "Qbq9qU75y3yl"
      },
      "execution_count": null,
      "outputs": []
    },
    {
      "cell_type": "markdown",
      "source": [
        "**CREATING THE MODEL**"
      ],
      "metadata": {
        "id": "dwyWqmDOzHPa"
      }
    },
    {
      "cell_type": "code",
      "source": [
        "import keras\n",
        "from keras.models import Sequential\n",
        "from keras.layers import Dense, LSTM"
      ],
      "metadata": {
        "id": "ZIPQzYCZzGAD"
      },
      "execution_count": null,
      "outputs": []
    },
    {
      "cell_type": "code",
      "source": [
        "model = Sequential()\n",
        "model.add(LSTM(50, input_shape= (X_train.shape[1], 1), return_sequences=True))\n",
        "model.add(LSTM(50,  return_sequences=True))\n",
        "model.add(LSTM(50))\n",
        "model.add(Dense(1, activation=\"linear\"))"
      ],
      "metadata": {
        "id": "WgoPOnyqzQpr"
      },
      "execution_count": null,
      "outputs": []
    },
    {
      "cell_type": "code",
      "source": [
        "model.summary()"
      ],
      "metadata": {
        "colab": {
          "base_uri": "https://localhost:8080/"
        },
        "id": "E9x0M1l-zkrb",
        "outputId": "80981f61-d296-4857-8c6c-5d76d8af6ad0"
      },
      "execution_count": null,
      "outputs": [
        {
          "output_type": "stream",
          "name": "stdout",
          "text": [
            "Model: \"sequential\"\n",
            "_________________________________________________________________\n",
            " Layer (type)                Output Shape              Param #   \n",
            "=================================================================\n",
            " lstm (LSTM)                 (None, 100, 50)           10400     \n",
            "                                                                 \n",
            " lstm_1 (LSTM)               (None, 100, 50)           20200     \n",
            "                                                                 \n",
            " lstm_2 (LSTM)               (None, 50)                20200     \n",
            "                                                                 \n",
            " dense (Dense)               (None, 1)                 51        \n",
            "                                                                 \n",
            "=================================================================\n",
            "Total params: 50851 (198.64 KB)\n",
            "Trainable params: 50851 (198.64 KB)\n",
            "Non-trainable params: 0 (0.00 Byte)\n",
            "_________________________________________________________________\n"
          ]
        }
      ]
    },
    {
      "cell_type": "code",
      "source": [
        "#Compiling the model\n",
        "model.compile(optimizer=\"adam\", loss=\"mean_squared_error\")"
      ],
      "metadata": {
        "id": "Iu-NrC2wznTj"
      },
      "execution_count": null,
      "outputs": []
    },
    {
      "cell_type": "code",
      "source": [
        "#Fitting the model\n",
        "model.fit(X_train, y_train, validation_data =(X_test, y_test), epochs = 100, batch_size = 64)"
      ],
      "metadata": {
        "colab": {
          "base_uri": "https://localhost:8080/"
        },
        "id": "q6FImBXyz7oR",
        "outputId": "5a8503fe-3553-4742-bc23-0e911592fcc3"
      },
      "execution_count": null,
      "outputs": [
        {
          "output_type": "stream",
          "name": "stdout",
          "text": [
            "Epoch 1/100\n",
            "105/105 [==============================] - 30s 217ms/step - loss: 1.2176e-04 - val_loss: 0.0064\n",
            "Epoch 2/100\n",
            "105/105 [==============================] - 23s 221ms/step - loss: 1.0388e-05 - val_loss: 0.0077\n",
            "Epoch 3/100\n",
            "105/105 [==============================] - 21s 196ms/step - loss: 9.1026e-06 - val_loss: 0.0072\n",
            "Epoch 4/100\n",
            "105/105 [==============================] - 40s 386ms/step - loss: 8.1712e-06 - val_loss: 0.0058\n",
            "Epoch 5/100\n",
            "105/105 [==============================] - 23s 220ms/step - loss: 7.5936e-06 - val_loss: 0.0051\n",
            "Epoch 6/100\n",
            "105/105 [==============================] - 20s 194ms/step - loss: 7.4437e-06 - val_loss: 0.0058\n",
            "Epoch 7/100\n",
            "105/105 [==============================] - 22s 213ms/step - loss: 6.5955e-06 - val_loss: 0.0069\n",
            "Epoch 8/100\n",
            "105/105 [==============================] - 20s 195ms/step - loss: 5.8750e-06 - val_loss: 0.0040\n",
            "Epoch 9/100\n",
            "105/105 [==============================] - 22s 209ms/step - loss: 5.2393e-06 - val_loss: 0.0043\n",
            "Epoch 10/100\n",
            "105/105 [==============================] - 25s 235ms/step - loss: 5.4972e-06 - val_loss: 0.0050\n",
            "Epoch 11/100\n",
            "105/105 [==============================] - 35s 334ms/step - loss: 4.8543e-06 - val_loss: 0.0044\n",
            "Epoch 12/100\n",
            "105/105 [==============================] - 25s 242ms/step - loss: 4.8196e-06 - val_loss: 0.0050\n",
            "Epoch 13/100\n",
            "105/105 [==============================] - 20s 194ms/step - loss: 5.5573e-06 - val_loss: 0.0039\n",
            "Epoch 14/100\n",
            "105/105 [==============================] - 22s 210ms/step - loss: 4.2132e-06 - val_loss: 0.0033\n",
            "Epoch 15/100\n",
            "105/105 [==============================] - 26s 252ms/step - loss: 4.8672e-06 - val_loss: 0.0038\n",
            "Epoch 16/100\n",
            "105/105 [==============================] - 40s 377ms/step - loss: 3.9656e-06 - val_loss: 0.0031\n",
            "Epoch 17/100\n",
            "105/105 [==============================] - 33s 316ms/step - loss: 4.1439e-06 - val_loss: 0.0021\n",
            "Epoch 18/100\n",
            "105/105 [==============================] - 23s 220ms/step - loss: 4.3900e-06 - val_loss: 0.0024\n",
            "Epoch 19/100\n",
            "105/105 [==============================] - 31s 294ms/step - loss: 4.2127e-06 - val_loss: 0.0032\n",
            "Epoch 20/100\n",
            "105/105 [==============================] - 20s 193ms/step - loss: 3.5332e-06 - val_loss: 0.0021\n",
            "Epoch 21/100\n",
            "105/105 [==============================] - 22s 214ms/step - loss: 3.6686e-06 - val_loss: 0.0028\n",
            "Epoch 22/100\n",
            "105/105 [==============================] - 21s 196ms/step - loss: 3.3864e-06 - val_loss: 0.0033\n",
            "Epoch 23/100\n",
            "105/105 [==============================] - 21s 204ms/step - loss: 3.9056e-06 - val_loss: 0.0024\n",
            "Epoch 24/100\n",
            "105/105 [==============================] - 31s 292ms/step - loss: 3.3142e-06 - val_loss: 0.0025\n",
            "Epoch 25/100\n",
            "105/105 [==============================] - 21s 202ms/step - loss: 3.5989e-06 - val_loss: 0.0016\n",
            "Epoch 26/100\n",
            "105/105 [==============================] - 21s 198ms/step - loss: 3.3406e-06 - val_loss: 0.0016\n",
            "Epoch 27/100\n",
            "105/105 [==============================] - 22s 207ms/step - loss: 3.0618e-06 - val_loss: 0.0027\n",
            "Epoch 28/100\n",
            "105/105 [==============================] - 20s 195ms/step - loss: 3.3879e-06 - val_loss: 0.0017\n",
            "Epoch 29/100\n",
            "105/105 [==============================] - 22s 213ms/step - loss: 2.8851e-06 - val_loss: 0.0016\n",
            "Epoch 30/100\n",
            "105/105 [==============================] - 21s 196ms/step - loss: 2.8978e-06 - val_loss: 8.5762e-04\n",
            "Epoch 31/100\n",
            "105/105 [==============================] - 22s 208ms/step - loss: 3.3457e-06 - val_loss: 0.0014\n",
            "Epoch 32/100\n",
            "105/105 [==============================] - 21s 197ms/step - loss: 3.0336e-06 - val_loss: 0.0013\n",
            "Epoch 33/100\n",
            "105/105 [==============================] - 22s 211ms/step - loss: 2.7474e-06 - val_loss: 0.0010\n",
            "Epoch 34/100\n",
            "105/105 [==============================] - 21s 197ms/step - loss: 2.5601e-06 - val_loss: 0.0013\n",
            "Epoch 35/100\n",
            "105/105 [==============================] - 22s 209ms/step - loss: 2.6401e-06 - val_loss: 0.0018\n",
            "Epoch 36/100\n",
            "105/105 [==============================] - 21s 196ms/step - loss: 2.8343e-06 - val_loss: 0.0010\n",
            "Epoch 37/100\n",
            "105/105 [==============================] - 22s 207ms/step - loss: 2.4379e-06 - val_loss: 0.0011\n",
            "Epoch 38/100\n",
            "105/105 [==============================] - 21s 198ms/step - loss: 2.3708e-06 - val_loss: 8.1255e-04\n",
            "Epoch 39/100\n",
            "105/105 [==============================] - 22s 204ms/step - loss: 2.3042e-06 - val_loss: 0.0012\n",
            "Epoch 40/100\n",
            "105/105 [==============================] - 23s 222ms/step - loss: 2.4261e-06 - val_loss: 0.0012\n",
            "Epoch 41/100\n",
            "105/105 [==============================] - 20s 195ms/step - loss: 2.3508e-06 - val_loss: 0.0017\n",
            "Epoch 42/100\n",
            "105/105 [==============================] - 22s 207ms/step - loss: 2.7249e-06 - val_loss: 0.0015\n",
            "Epoch 43/100\n",
            "105/105 [==============================] - 20s 195ms/step - loss: 2.4804e-06 - val_loss: 0.0012\n",
            "Epoch 44/100\n",
            "105/105 [==============================] - 22s 209ms/step - loss: 2.1264e-06 - val_loss: 0.0013\n",
            "Epoch 45/100\n",
            "105/105 [==============================] - 20s 195ms/step - loss: 2.1482e-06 - val_loss: 4.2626e-04\n",
            "Epoch 46/100\n",
            "105/105 [==============================] - 22s 209ms/step - loss: 2.8149e-06 - val_loss: 6.2398e-04\n",
            "Epoch 47/100\n",
            "105/105 [==============================] - 20s 195ms/step - loss: 1.8477e-06 - val_loss: 6.2951e-04\n",
            "Epoch 48/100\n",
            "105/105 [==============================] - 22s 208ms/step - loss: 2.5635e-06 - val_loss: 9.5430e-04\n",
            "Epoch 49/100\n",
            "105/105 [==============================] - 24s 225ms/step - loss: 2.2054e-06 - val_loss: 8.3014e-04\n",
            "Epoch 50/100\n",
            "105/105 [==============================] - 20s 194ms/step - loss: 1.7426e-06 - val_loss: 8.7910e-04\n",
            "Epoch 51/100\n",
            "105/105 [==============================] - 22s 212ms/step - loss: 2.3117e-06 - val_loss: 0.0011\n",
            "Epoch 52/100\n",
            "105/105 [==============================] - 20s 196ms/step - loss: 1.6095e-06 - val_loss: 9.2183e-04\n",
            "Epoch 53/100\n",
            "105/105 [==============================] - 22s 211ms/step - loss: 1.6172e-06 - val_loss: 9.7993e-04\n",
            "Epoch 54/100\n",
            "105/105 [==============================] - 21s 196ms/step - loss: 1.7212e-06 - val_loss: 9.0096e-04\n",
            "Epoch 55/100\n",
            "105/105 [==============================] - 22s 212ms/step - loss: 1.7700e-06 - val_loss: 6.5020e-04\n",
            "Epoch 56/100\n",
            "105/105 [==============================] - 20s 195ms/step - loss: 1.7303e-06 - val_loss: 6.2541e-04\n",
            "Epoch 57/100\n",
            "105/105 [==============================] - 22s 206ms/step - loss: 1.7540e-06 - val_loss: 3.6162e-04\n",
            "Epoch 58/100\n",
            "105/105 [==============================] - 23s 221ms/step - loss: 1.7523e-06 - val_loss: 7.9824e-04\n",
            "Epoch 59/100\n",
            "105/105 [==============================] - 20s 193ms/step - loss: 1.5933e-06 - val_loss: 0.0010\n",
            "Epoch 60/100\n",
            "105/105 [==============================] - 22s 208ms/step - loss: 1.6433e-06 - val_loss: 5.6800e-04\n",
            "Epoch 61/100\n",
            "105/105 [==============================] - 20s 193ms/step - loss: 1.5237e-06 - val_loss: 7.0411e-04\n",
            "Epoch 62/100\n",
            "105/105 [==============================] - 22s 209ms/step - loss: 1.6635e-06 - val_loss: 7.7115e-04\n",
            "Epoch 63/100\n",
            "105/105 [==============================] - 20s 195ms/step - loss: 1.8337e-06 - val_loss: 6.6893e-04\n",
            "Epoch 64/100\n",
            "105/105 [==============================] - 22s 209ms/step - loss: 1.5054e-06 - val_loss: 8.1732e-04\n",
            "Epoch 65/100\n",
            "105/105 [==============================] - 20s 194ms/step - loss: 1.6377e-06 - val_loss: 0.0013\n",
            "Epoch 66/100\n",
            "105/105 [==============================] - 22s 211ms/step - loss: 1.7291e-06 - val_loss: 9.1352e-04\n",
            "Epoch 67/100\n",
            "105/105 [==============================] - 21s 196ms/step - loss: 1.4837e-06 - val_loss: 9.2661e-04\n",
            "Epoch 68/100\n",
            "105/105 [==============================] - 22s 207ms/step - loss: 1.4119e-06 - val_loss: 0.0011\n",
            "Epoch 69/100\n",
            "105/105 [==============================] - 23s 220ms/step - loss: 1.6383e-06 - val_loss: 3.0631e-04\n",
            "Epoch 70/100\n",
            "105/105 [==============================] - 20s 195ms/step - loss: 1.6826e-06 - val_loss: 6.5993e-04\n",
            "Epoch 71/100\n",
            "105/105 [==============================] - 22s 209ms/step - loss: 1.4777e-06 - val_loss: 7.4770e-04\n",
            "Epoch 72/100\n",
            "105/105 [==============================] - 20s 194ms/step - loss: 1.5160e-06 - val_loss: 8.6549e-04\n",
            "Epoch 73/100\n",
            "105/105 [==============================] - 22s 209ms/step - loss: 1.3621e-06 - val_loss: 9.6352e-04\n",
            "Epoch 74/100\n",
            "105/105 [==============================] - 20s 192ms/step - loss: 1.5873e-06 - val_loss: 9.3994e-04\n",
            "Epoch 75/100\n",
            "105/105 [==============================] - 22s 208ms/step - loss: 1.6112e-06 - val_loss: 0.0016\n",
            "Epoch 76/100\n",
            "105/105 [==============================] - 21s 200ms/step - loss: 1.6313e-06 - val_loss: 0.0011\n",
            "Epoch 77/100\n",
            "105/105 [==============================] - 22s 208ms/step - loss: 1.3910e-06 - val_loss: 0.0011\n",
            "Epoch 78/100\n",
            "105/105 [==============================] - 21s 202ms/step - loss: 1.5747e-06 - val_loss: 0.0013\n",
            "Epoch 79/100\n",
            "105/105 [==============================] - 21s 203ms/step - loss: 1.3139e-06 - val_loss: 0.0012\n",
            "Epoch 80/100\n",
            "105/105 [==============================] - 23s 223ms/step - loss: 1.3030e-06 - val_loss: 9.6106e-04\n",
            "Epoch 81/100\n",
            "105/105 [==============================] - 20s 194ms/step - loss: 1.7056e-06 - val_loss: 0.0013\n",
            "Epoch 82/100\n",
            "105/105 [==============================] - 22s 210ms/step - loss: 1.3361e-06 - val_loss: 6.3932e-04\n",
            "Epoch 83/100\n",
            "105/105 [==============================] - 21s 196ms/step - loss: 1.4866e-06 - val_loss: 0.0011\n",
            "Epoch 84/100\n",
            "105/105 [==============================] - 22s 212ms/step - loss: 1.4068e-06 - val_loss: 0.0012\n",
            "Epoch 85/100\n",
            "105/105 [==============================] - 21s 199ms/step - loss: 1.4291e-06 - val_loss: 0.0011\n",
            "Epoch 86/100\n",
            "105/105 [==============================] - 22s 207ms/step - loss: 1.7278e-06 - val_loss: 0.0011\n",
            "Epoch 87/100\n",
            "105/105 [==============================] - 21s 200ms/step - loss: 1.8931e-06 - val_loss: 0.0013\n",
            "Epoch 88/100\n",
            "105/105 [==============================] - 21s 200ms/step - loss: 1.4334e-06 - val_loss: 0.0012\n",
            "Epoch 89/100\n",
            "105/105 [==============================] - 23s 224ms/step - loss: 1.3672e-06 - val_loss: 0.0016\n",
            "Epoch 90/100\n",
            "105/105 [==============================] - 20s 195ms/step - loss: 1.3476e-06 - val_loss: 0.0014\n",
            "Epoch 91/100\n",
            "105/105 [==============================] - 22s 211ms/step - loss: 1.3321e-06 - val_loss: 0.0014\n",
            "Epoch 92/100\n",
            "105/105 [==============================] - 21s 196ms/step - loss: 1.4475e-06 - val_loss: 0.0015\n",
            "Epoch 93/100\n",
            "105/105 [==============================] - 22s 210ms/step - loss: 1.4528e-06 - val_loss: 0.0011\n",
            "Epoch 94/100\n",
            "105/105 [==============================] - 20s 193ms/step - loss: 1.5864e-06 - val_loss: 0.0014\n",
            "Epoch 95/100\n",
            "105/105 [==============================] - 22s 209ms/step - loss: 1.4053e-06 - val_loss: 0.0016\n",
            "Epoch 96/100\n",
            "105/105 [==============================] - 21s 197ms/step - loss: 1.3958e-06 - val_loss: 0.0012\n",
            "Epoch 97/100\n",
            "105/105 [==============================] - 22s 205ms/step - loss: 1.4382e-06 - val_loss: 0.0013\n",
            "Epoch 98/100\n",
            "105/105 [==============================] - 21s 200ms/step - loss: 1.3658e-06 - val_loss: 0.0019\n",
            "Epoch 99/100\n",
            "105/105 [==============================] - 21s 198ms/step - loss: 1.3470e-06 - val_loss: 0.0012\n",
            "Epoch 100/100\n",
            "105/105 [==============================] - 23s 221ms/step - loss: 1.3801e-06 - val_loss: 0.0018\n"
          ]
        },
        {
          "output_type": "execute_result",
          "data": {
            "text/plain": [
              "<keras.src.callbacks.History at 0x7c5f8606e980>"
            ]
          },
          "metadata": {},
          "execution_count": 35
        }
      ]
    },
    {
      "cell_type": "code",
      "source": [
        "#Plotting the loss\n",
        "loss = model.history.history['loss']\n",
        "plt.plot(loss)"
      ],
      "metadata": {
        "colab": {
          "base_uri": "https://localhost:8080/",
          "height": 447
        },
        "id": "arTGdSCt0DEc",
        "outputId": "fdc8f646-29eb-4d8c-ecbe-5606a8120b4f"
      },
      "execution_count": null,
      "outputs": [
        {
          "output_type": "execute_result",
          "data": {
            "text/plain": [
              "[<matplotlib.lines.Line2D at 0x7c5f74b4c1c0>]"
            ]
          },
          "metadata": {},
          "execution_count": 37
        },
        {
          "output_type": "display_data",
          "data": {
            "text/plain": [
              "<Figure size 640x480 with 1 Axes>"
            ],
            "image/png": "[encoded data removed]"
          },
          "metadata": {}
        }
      ]
    },
    {
      "cell_type": "code",
      "source": [
        "#Predicting\n",
        "train_predict= model.predict(X_train)\n",
        "test_predict = model.predict(X_test)"
      ],
      "metadata": {
        "colab": {
          "base_uri": "https://localhost:8080/"
        },
        "id": "ElXGedxe09XA",
        "outputId": "d64e68df-3b3b-4133-bb05-e5ad0a6e991a"
      },
      "execution_count": null,
      "outputs": [
        {
          "output_type": "stream",
          "name": "stdout",
          "text": [
            "209/209 [==============================] - 10s 41ms/step\n",
            "88/88 [==============================] - 3s 36ms/step\n"
          ]
        }
      ]
    },
    {
      "cell_type": "code",
      "source": [
        "#Inverse transform to get actual values\n",
        "\n",
        "train_predict = scaler.inverse_transform(train_predict)\n",
        "test_predict =  scaler.inverse_transform(test_predict)"
      ],
      "metadata": {
        "id": "bpURRknb1IeX"
      },
      "execution_count": null,
      "outputs": []
    },
    {
      "cell_type": "code",
      "source": [
        "plt.plot(scaler.inverse_transform(ds_scaled))\n",
        "plt.plot(train_predict)\n",
        "plt.plot(test_predict)\n",
        "plt.legend()"
      ],
      "metadata": {
        "colab": {
          "base_uri": "https://localhost:8080/",
          "height": 485
        },
        "id": "ElgdaKsO1lX5",
        "outputId": "0b6b6e0c-81d4-4bd3-afe7-230d59973530"
      },
      "execution_count": null,
      "outputs": [
        {
          "output_type": "stream",
          "name": "stderr",
          "text": [
            "WARNING:matplotlib.legend:No artists with labels found to put in legend.  Note that artists whose label start with an underscore are ignored when legend() is called with no argument.\n"
          ]
        },
        {
          "output_type": "execute_result",
          "data": {
            "text/plain": [
              "<matplotlib.legend.Legend at 0x7c5f867f4610>"
            ]
          },
          "metadata": {},
          "execution_count": 40
        },
        {
          "output_type": "display_data",
          "data": {
            "text/plain": [
              "<Figure size 640x480 with 1 Axes>"
            ],
            "image/png": "[encoded data removed]"
          },
          "metadata": {}
        }
      ]
    },
    {
      "cell_type": "code",
      "source": [
        "test = np.vstack((train_predict, test_predict))\n",
        "\n",
        "plt.plot(scaler.inverse_transform(ds_scaled))\n",
        "plt.plot(test)\n",
        "plt.legend()"
      ],
      "metadata": {
        "colab": {
          "base_uri": "https://localhost:8080/",
          "height": 485
        },
        "id": "WThpn15D1tYS",
        "outputId": "be9d0066-7483-4dea-d0f2-534f7ddf5e30"
      },
      "execution_count": null,
      "outputs": [
        {
          "output_type": "stream",
          "name": "stderr",
          "text": [
            "WARNING:matplotlib.legend:No artists with labels found to put in legend.  Note that artists whose label start with an underscore are ignored when legend() is called with no argument.\n"
          ]
        },
        {
          "output_type": "execute_result",
          "data": {
            "text/plain": [
              "<matplotlib.legend.Legend at 0x7c5f84b1fe20>"
            ]
          },
          "metadata": {},
          "execution_count": 42
        },
        {
          "output_type": "display_data",
          "data": {
            "text/plain": [
              "<Figure size 640x480 with 1 Axes>"
            ],
            "image/png": "[encoded data removed]"
          },
          "metadata": {}
        }
      ]
    },
    {
      "cell_type": "markdown",
      "source": [
        "**PREDICTING NEXT 30 DAYS DATA USING A SLIDING WINDOW**"
      ],
      "metadata": {
        "id": "IPdcLwM52SrU"
      }
    },
    {
      "cell_type": "code",
      "source": [
        "len(ds_test)"
      ],
      "metadata": {
        "colab": {
          "base_uri": "https://localhost:8080/"
        },
        "id": "y-xcv_ly2YP9",
        "outputId": "8d5db688-c7af-4efc-e229-9685191252a1"
      },
      "execution_count": null,
      "outputs": [
        {
          "output_type": "execute_result",
          "data": {
            "text/plain": [
              "2901"
            ]
          },
          "metadata": {},
          "execution_count": 50
        }
      ]
    },
    {
      "cell_type": "code",
      "source": [
        "#Getting last 100 day records\n",
        "\n",
        "fut_inp = ds_test[2801 :]\n",
        "fut_inp = fut_inp.reshape(1, -1)\n",
        "fut_inp.shape"
      ],
      "metadata": {
        "colab": {
          "base_uri": "https://localhost:8080/"
        },
        "id": "hV-YOFbv-Qbk",
        "outputId": "62d64ef9-8c7c-4d68-9810-9fb61f17f6a7"
      },
      "execution_count": null,
      "outputs": [
        {
          "output_type": "execute_result",
          "data": {
            "text/plain": [
              "(1, 100)"
            ]
          },
          "metadata": {},
          "execution_count": 54
        }
      ]
    },
    {
      "cell_type": "code",
      "source": [],
      "metadata": {
        "id": "esprhbs0_6jj"
      },
      "execution_count": null,
      "outputs": []
    },
    {
      "cell_type": "code",
      "source": [
        "#Predicting next 30 days using current data\n",
        "tmp_inp = list(fut_inp)\n",
        "tmp_inp = tmp_inp[0].tolist()\n",
        "lst_output=[]\n",
        "n_steps=100\n",
        "i=0\n",
        "while(i<30):\n",
        "\n",
        "    if(len(tmp_inp)>100):\n",
        "        fut_inp = np.array(tmp_inp[1:])\n",
        "        fut_inp=fut_inp.reshape(1,-1)\n",
        "        fut_inp = fut_inp.reshape((1, n_steps, 1))\n",
        "        yhat = model.predict(fut_inp, verbose=0)\n",
        "        tmp_inp.extend(yhat[0].tolist())\n",
        "        tmp_inp = tmp_inp[1:]\n",
        "        lst_output.extend(yhat.tolist())\n",
        "        i=i+1\n",
        "    else:\n",
        "        fut_inp = fut_inp.reshape((1, n_steps,1))\n",
        "        yhat = model.predict(fut_inp, verbose=0)\n",
        "        tmp_inp.extend(yhat[0].tolist())\n",
        "        lst_output.extend(yhat.tolist())\n",
        "        i=i+1\n",
        "\n",
        "\n",
        "print(lst_output)"
      ],
      "metadata": {
        "colab": {
          "base_uri": "https://localhost:8080/"
        },
        "id": "tEILrueY-Y8a",
        "outputId": "23085a53-95b1-44d0-fcb8-4d9a9268200e"
      },
      "execution_count": null,
      "outputs": [
        {
          "output_type": "stream",
          "name": "stdout",
          "text": [
            "[[0.7699140310287476], [0.6815392374992371], [0.6004112362861633], [0.5299369692802429], [0.4686397910118103], [0.41456907987594604], [0.3660551905632019], [0.3220522403717041], [0.2821218967437744], [0.24622654914855957], [0.21448107063770294], [0.18696099519729614], [0.16360773146152496], [0.14422018826007843], [0.12849439680576324], [0.11607567965984344], [0.10659994930028915], [0.09971806406974792], [0.09510548412799835], [0.09246302396059036], [0.09151382744312286], [0.09199966490268707], [0.09367816150188446], [0.09632125496864319], [0.09971506148576736], [0.10366026312112808], [0.10797318816184998], [0.11248669028282166], [0.11705105751752853], [0.12153467535972595]]\n"
          ]
        }
      ]
    },
    {
      "cell_type": "code",
      "source": [
        "len(ds_scaled)"
      ],
      "metadata": {
        "colab": {
          "base_uri": "https://localhost:8080/"
        },
        "id": "wAK7DR32_mc3",
        "outputId": "a5639f22-0a23-4f2b-ea89-71a4313adb88"
      },
      "execution_count": null,
      "outputs": [
        {
          "output_type": "execute_result",
          "data": {
            "text/plain": [
              "9670"
            ]
          },
          "metadata": {},
          "execution_count": 56
        }
      ]
    },
    {
      "cell_type": "markdown",
      "source": [
        "Now we know that by default , the plot starts from extreme left hand side. But as it is future prediction we need to plot after the current graph ends so we need a dummy plan to plot one curve after the other"
      ],
      "metadata": {
        "id": "G-b29wQ9_DPX"
      }
    },
    {
      "cell_type": "code",
      "source": [
        "plot_new=np.arange(1,101)\n",
        "plot_pred=np.arange(101,131)\n",
        "\n",
        "plt.plot(plot_new, scaler.inverse_transform(ds_scaled[9570:]))\n",
        "plt.plot(plot_pred, scaler.inverse_transform(lst_output))"
      ],
      "metadata": {
        "colab": {
          "base_uri": "https://localhost:8080/",
          "height": 447
        },
        "id": "mEKP9_4A-7gr",
        "outputId": "479850dc-31e9-42a6-eac8-33d081542e4c"
      },
      "execution_count": null,
      "outputs": [
        {
          "output_type": "execute_result",
          "data": {
            "text/plain": [
              "[<matplotlib.lines.Line2D at 0x7c5f74bf77f0>]"
            ]
          },
          "metadata": {},
          "execution_count": 57
        },
        {
          "output_type": "display_data",
          "data": {
            "text/plain": [
              "<Figure size 640x480 with 1 Axes>"
            ],
            "image/png": "[encoded data removed]"
          },
          "metadata": {}
        }
      ]
    },
    {
      "cell_type": "code",
      "source": [
        "ds_new = ds_scaled.tolist()\n",
        "\n",
        "len(ds_new)"
      ],
      "metadata": {
        "colab": {
          "base_uri": "https://localhost:8080/"
        },
        "id": "n_LTMbwR_s9W",
        "outputId": "318917b2-f683-4d49-9bb3-9c8c4ec6b5a5"
      },
      "execution_count": null,
      "outputs": [
        {
          "output_type": "execute_result",
          "data": {
            "text/plain": [
              "9670"
            ]
          },
          "metadata": {},
          "execution_count": 58
        }
      ]
    },
    {
      "cell_type": "code",
      "source": [
        "#Entends helps us to fill the missing value with approx value\n",
        "ds_new.extend(lst_output)\n",
        "plt.plot(ds_new[9600:])"
      ],
      "metadata": {
        "colab": {
          "base_uri": "https://localhost:8080/",
          "height": 447
        },
        "id": "WvTekw0DAlNg",
        "outputId": "4b0a260a-fec0-44ae-a30f-f73bda123efe"
      },
      "execution_count": null,
      "outputs": [
        {
          "output_type": "execute_result",
          "data": {
            "text/plain": [
              "[<matplotlib.lines.Line2D at 0x7c5f8666e050>]"
            ]
          },
          "metadata": {},
          "execution_count": 59
        },
        {
          "output_type": "display_data",
          "data": {
            "text/plain": [
              "<Figure size 640x480 with 1 Axes>"
            ],
            "image/png": "[encoded data removed]"
          },
          "metadata": {}
        }
      ]
    },
    {
      "cell_type": "code",
      "source": [],
      "metadata": {
        "id": "kpRxD1JZAojP"
      },
      "execution_count": null,
      "outputs": []
    }
  ]
}